{
 "cells": [
  {
   "cell_type": "code",
   "execution_count": 1,
   "metadata": {
    "collapsed": true
   },
   "outputs": [],
   "source": [
    "from __future__ import print_function\n",
    "\n",
    "# Import MNIST data\n",
    "# from tensorflow.examples.tutorials.mnist import input_data\n",
    "# mnist = input_data.read_data_sets(\"/tmp/data/\", one_hot=True)\n",
    "\n",
    "import tensorflow as tf\n",
    "import numpy as np"
   ]
  },
  {
   "cell_type": "markdown",
   "metadata": {},
   "source": [
    "## File Path ##"
   ]
  },
  {
   "cell_type": "code",
   "execution_count": 347,
   "metadata": {
    "collapsed": true,
    "scrolled": true
   },
   "outputs": [],
   "source": [
    "TRAIN_PATH = \"./result2/train.csv\"\n",
    "TEST_PATH = \"./test2.csv\"\n",
    "TEST_PATH_1 = \"./result2/train.csv\"\n",
    "MODEL_PATH = \"./model/\""
   ]
  },
  {
   "cell_type": "markdown",
   "metadata": {},
   "source": [
    "## Load Data ##"
   ]
  },
  {
   "cell_type": "code",
   "execution_count": 348,
   "metadata": {},
   "outputs": [],
   "source": [
    "training_set = tf.contrib.learn.datasets.base.load_csv_with_header(\n",
    "    filename=TRAIN_PATH,\n",
    "    target_dtype=np.int,\n",
    "    features_dtype=np.float32)\n",
    "\n",
    "''''''\n",
    "test_set = tf.contrib.learn.datasets.base.load_csv_with_header(\n",
    "    filename=TEST_PATH,\n",
    "    target_dtype=np.int,\n",
    "    features_dtype=np.float32)\n",
    "\n",
    "test_set = tf.contrib.learn.datasets.base.load_csv_with_header(\n",
    "    filename=TEST_PATH_1,\n",
    "    target_dtype=np.int,\n",
    "    features_dtype=np.float32)\n",
    "''''''\n",
    "\n",
    "feature_columns = [tf.feature_column.numeric_column(\"x\", shape=[50])]"
   ]
  },
  {
   "cell_type": "markdown",
   "metadata": {},
   "source": [
    "## Classifier ##"
   ]
  },
  {
   "cell_type": "code",
   "execution_count": 350,
   "metadata": {
    "scrolled": true
   },
   "outputs": [
    {
     "name": "stdout",
     "output_type": "stream",
     "text": [
      "INFO:tensorflow:Using default config.\n",
      "INFO:tensorflow:Using config: {'_model_dir': './model/', '_tf_random_seed': None, '_save_summary_steps': 100, '_save_checkpoints_steps': None, '_save_checkpoints_secs': 600, '_session_config': None, '_keep_checkpoint_max': 5, '_keep_checkpoint_every_n_hours': 10000, '_log_step_count_steps': 100, '_train_distribute': None, '_device_fn': None, '_service': None, '_cluster_spec': <tensorflow.python.training.server_lib.ClusterSpec object at 0x000001FC874BCC18>, '_task_type': 'worker', '_task_id': 0, '_global_id_in_cluster': 0, '_master': '', '_evaluation_master': '', '_is_chief': True, '_num_ps_replicas': 0, '_num_worker_replicas': 1}\n"
     ]
    }
   ],
   "source": [
    "classifier = tf.estimator.DNNClassifier(\n",
    "    feature_columns=feature_columns,\n",
    "    hidden_units=[50, 20, 50],\n",
    "    n_classes=2,\n",
    "    model_dir=MODEL_PATH)"
   ]
  },
  {
   "cell_type": "markdown",
   "metadata": {},
   "source": [
    "## Train ##"
   ]
  },
  {
   "cell_type": "code",
   "execution_count": 351,
   "metadata": {
    "collapsed": true
   },
   "outputs": [],
   "source": [
    "train_input_fn = tf.estimator.inputs.numpy_input_fn(\n",
    "    x={\"x\": np.array(training_set.data)},\n",
    "    y=np.array(training_set.target),\n",
    "    batch_size=1,\n",
    "    num_epochs=None,\n",
    "    shuffle=True)"
   ]
  },
  {
   "cell_type": "code",
   "execution_count": 352,
   "metadata": {
    "scrolled": true
   },
   "outputs": [
    {
     "name": "stdout",
     "output_type": "stream",
     "text": [
      "INFO:tensorflow:Calling model_fn.\n",
      "INFO:tensorflow:Done calling model_fn.\n",
      "INFO:tensorflow:Create CheckpointSaverHook.\n",
      "INFO:tensorflow:Graph was finalized.\n",
      "INFO:tensorflow:Restoring parameters from ./model/model.ckpt-450\n",
      "INFO:tensorflow:Running local_init_op.\n",
      "INFO:tensorflow:Done running local_init_op.\n",
      "INFO:tensorflow:Saving checkpoints for 450 into ./model/model.ckpt.\n",
      "INFO:tensorflow:loss = 0.0599753, step = 451\n",
      "INFO:tensorflow:Saving checkpoints for 500 into ./model/model.ckpt.\n",
      "INFO:tensorflow:Loss for final step: 0.0103375.\n"
     ]
    },
    {
     "data": {
      "text/plain": [
       "<tensorflow.python.estimator.canned.dnn.DNNClassifier at 0x1fc874bc5f8>"
      ]
     },
     "execution_count": 352,
     "metadata": {},
     "output_type": "execute_result"
    }
   ],
   "source": [
    "classifier.train(input_fn=train_input_fn, steps=50)"
   ]
  },
  {
   "cell_type": "code",
   "execution_count": 353,
   "metadata": {},
   "outputs": [
    {
     "name": "stdout",
     "output_type": "stream",
     "text": [
      "[[ 0.01910552 -0.06613521 -0.29732594 ..., -0.06937405 -0.01688934\n",
      "   0.03616405]\n",
      " [-0.03392795  0.0691277   0.11782703 ...,  0.06673227  0.14857934\n",
      "   0.1007015 ]\n",
      " [ 0.20610072 -0.26860288  0.12348489 ..., -0.26105416  0.14565432\n",
      "   0.10675572]\n",
      " ..., \n",
      " [ 0.04203891  0.0666316   0.02908928 ..., -0.05146091  0.13526316\n",
      "  -0.04109982]\n",
      " [-0.06814148 -0.10919429  0.14614153 ...,  0.16918385 -0.15803024\n",
      "  -0.20286632]\n",
      " [ 0.20681582 -0.17716549  0.11719732 ..., -0.09522048  0.20486522\n",
      "  -0.19276384]]\n",
      "[-0.01073617 -0.01866096 -0.01811125 -0.00025018 -0.00180902 -0.00527145\n",
      " -0.00110621 -0.01344028 -0.01272012  0.         -0.00129483  0.\n",
      " -0.00234335 -0.02217889 -0.02667161  0.00132189 -0.01144278 -0.00918302\n",
      " -0.01527133 -0.00318287 -0.02787856 -0.00975776 -0.01239961 -0.01893483\n",
      " -0.01406181  0.01199302 -0.00364271 -0.00417478 -0.0071775  -0.01436141\n",
      " -0.01126433 -0.04011384 -0.01731719 -0.01218617 -0.02643607 -0.01101718\n",
      " -0.01375316 -0.00681767 -0.01560646  0.01623997 -0.020735   -0.01621796\n",
      " -0.01368975 -0.00706003 -0.01169655  0.0066266  -0.01096408 -0.00568254\n",
      " -0.00961459 -0.01204251]\n"
     ]
    }
   ],
   "source": [
    "print(classifier.get_variable_value(\"dnn/hiddenlayer_0/kernel\"))\n",
    "print(classifier.get_variable_value(\"dnn/hiddenlayer_0/bias\")) "
   ]
  },
  {
   "cell_type": "markdown",
   "metadata": {},
   "source": [
    "## Test ##"
   ]
  },
  {
   "cell_type": "code",
   "execution_count": 354,
   "metadata": {},
   "outputs": [
    {
     "name": "stdout",
     "output_type": "stream",
     "text": [
      "INFO:tensorflow:Calling model_fn.\n",
      "WARNING:tensorflow:Trapezoidal rule is known to produce incorrect PR-AUCs; please switch to \"careful_interpolation\" instead.\n",
      "WARNING:tensorflow:Trapezoidal rule is known to produce incorrect PR-AUCs; please switch to \"careful_interpolation\" instead.\n",
      "INFO:tensorflow:Done calling model_fn.\n",
      "INFO:tensorflow:Starting evaluation at 2019-01-09-07:58:53\n",
      "INFO:tensorflow:Graph was finalized.\n",
      "INFO:tensorflow:Restoring parameters from ./model/model.ckpt-500\n",
      "INFO:tensorflow:Running local_init_op.\n",
      "INFO:tensorflow:Done running local_init_op.\n",
      "INFO:tensorflow:Finished evaluation at 2019-01-09-07:58:54\n",
      "INFO:tensorflow:Saving dict for global step 500: accuracy = 0.829268, accuracy_baseline = 0.609756, auc = 0.89875, auc_precision_recall = 0.883057, average_loss = 0.389751, global_step = 500, label/mean = 0.390244, loss = 0.389751, precision = 0.909091, prediction/mean = 0.307793, recall = 0.625\n",
      "INFO:tensorflow:Saving 'checkpoint_path' summary for global step 500: ./model/model.ckpt-500\n",
      "nTest Accuracy: 0.829268n\n"
     ]
    }
   ],
   "source": [
    "test_input_fn = tf.estimator.inputs.numpy_input_fn(\n",
    "    x={\"x\": np.array(test_set.data)},\n",
    "    y=np.array(test_set.target),\n",
    "    batch_size=1,\n",
    "    num_epochs=1,\n",
    "    shuffle=False)\n",
    "accuracy_score = classifier.evaluate(input_fn=test_input_fn)[\"accuracy\"]\n",
    "print(\"nTest Accuracy: {0:f}n\".format(accuracy_score))"
   ]
  },
  {
   "cell_type": "markdown",
   "metadata": {},
   "source": [
    "## Predict ##"
   ]
  },
  {
   "cell_type": "code",
   "execution_count": 260,
   "metadata": {},
   "outputs": [
    {
     "name": "stdout",
     "output_type": "stream",
     "text": [
      "INFO:tensorflow:Calling model_fn.\n",
      "INFO:tensorflow:Done calling model_fn.\n",
      "INFO:tensorflow:Graph was finalized.\n",
      "INFO:tensorflow:Restoring parameters from ./model/model.ckpt-2000\n",
      "INFO:tensorflow:Running local_init_op.\n",
      "INFO:tensorflow:Done running local_init_op.\n",
      "New Samples, Class Predictions:    [array([b'0'], dtype=object), array([b'0'], dtype=object), array([b'0'], dtype=object), array([b'0'], dtype=object), array([b'0'], dtype=object), array([b'0'], dtype=object), array([b'0'], dtype=object), array([b'0'], dtype=object), array([b'0'], dtype=object), array([b'0'], dtype=object), array([b'0'], dtype=object), array([b'0'], dtype=object), array([b'0'], dtype=object), array([b'0'], dtype=object), array([b'0'], dtype=object), array([b'0'], dtype=object), array([b'0'], dtype=object), array([b'0'], dtype=object), array([b'0'], dtype=object), array([b'0'], dtype=object), array([b'0'], dtype=object), array([b'0'], dtype=object), array([b'0'], dtype=object), array([b'0'], dtype=object), array([b'0'], dtype=object), array([b'0'], dtype=object), array([b'0'], dtype=object), array([b'1'], dtype=object), array([b'1'], dtype=object), array([b'1'], dtype=object), array([b'1'], dtype=object), array([b'1'], dtype=object), array([b'1'], dtype=object), array([b'1'], dtype=object), array([b'1'], dtype=object), array([b'1'], dtype=object), array([b'1'], dtype=object), array([b'1'], dtype=object), array([b'1'], dtype=object), array([b'1'], dtype=object), array([b'1'], dtype=object), array([b'1'], dtype=object), array([b'1'], dtype=object), array([b'1'], dtype=object), array([b'0'], dtype=object), array([b'0'], dtype=object), array([b'0'], dtype=object), array([b'0'], dtype=object), array([b'0'], dtype=object), array([b'0'], dtype=object), array([b'0'], dtype=object), array([b'0'], dtype=object), array([b'0'], dtype=object), array([b'0'], dtype=object), array([b'1'], dtype=object), array([b'1'], dtype=object), array([b'1'], dtype=object), array([b'1'], dtype=object), array([b'1'], dtype=object), array([b'1'], dtype=object), array([b'1'], dtype=object), array([b'1'], dtype=object), array([b'1'], dtype=object), array([b'1'], dtype=object), array([b'1'], dtype=object), array([b'1'], dtype=object), array([b'1'], dtype=object), array([b'0'], dtype=object), array([b'0'], dtype=object), array([b'0'], dtype=object), array([b'0'], dtype=object), array([b'0'], dtype=object), array([b'0'], dtype=object), array([b'0'], dtype=object), array([b'0'], dtype=object), array([b'0'], dtype=object), array([b'0'], dtype=object), array([b'0'], dtype=object), array([b'0'], dtype=object), array([b'0'], dtype=object), array([b'0'], dtype=object), array([b'0'], dtype=object), array([b'0'], dtype=object), array([b'0'], dtype=object), array([b'0'], dtype=object), array([b'0'], dtype=object), array([b'0'], dtype=object), array([b'0'], dtype=object), array([b'0'], dtype=object), array([b'0'], dtype=object), array([b'0'], dtype=object), array([b'0'], dtype=object)]\n",
      "\n"
     ]
    }
   ],
   "source": [
    "predictions = list(classifier.predict(input_fn=test_input_fn))\n",
    "predicted_classes = [p[\"classes\"] for p in predictions]\n",
    "\n",
    "print(\"New Samples, Class Predictions:    {}\\n\".format(predicted_classes))"
   ]
  },
  {
   "cell_type": "markdown",
   "metadata": {},
   "source": [
    "## Load Model ##"
   ]
  },
  {
   "cell_type": "code",
   "execution_count": 127,
   "metadata": {},
   "outputs": [
    {
     "name": "stdout",
     "output_type": "stream",
     "text": [
      "INFO:tensorflow:Using default config.\n",
      "INFO:tensorflow:Using config: {'_task_type': None, '_task_id': 0, '_cluster_spec': <tensorflow.python.training.server_lib.ClusterSpec object at 0x000001FC8505D6A0>, '_master': '', '_num_ps_replicas': 0, '_num_worker_replicas': 0, '_environment': 'local', '_is_chief': True, '_evaluation_master': '', '_train_distribute': None, '_device_fn': None, '_tf_config': gpu_options {\n",
      "  per_process_gpu_memory_fraction: 1.0\n",
      "}\n",
      ", '_tf_random_seed': None, '_save_summary_steps': 100, '_save_checkpoints_secs': 600, '_log_step_count_steps': 100, '_session_config': None, '_save_checkpoints_steps': None, '_keep_checkpoint_max': 5, '_keep_checkpoint_every_n_hours': 10000, '_model_dir': './model/'}\n",
      "INFO:tensorflow:Calling model_fn.\n",
      "WARNING:tensorflow:Trapezoidal rule is known to produce incorrect PR-AUCs; please switch to \"careful_interpolation\" instead.\n",
      "WARNING:tensorflow:Trapezoidal rule is known to produce incorrect PR-AUCs; please switch to \"careful_interpolation\" instead.\n",
      "INFO:tensorflow:Done calling model_fn.\n",
      "INFO:tensorflow:Starting evaluation at 2019-01-09-06:50:55\n",
      "INFO:tensorflow:Graph was finalized.\n",
      "INFO:tensorflow:Restoring parameters from ./model/model.ckpt-3000\n",
      "INFO:tensorflow:Running local_init_op.\n",
      "INFO:tensorflow:Done running local_init_op.\n",
      "INFO:tensorflow:Finished evaluation at 2019-01-09-06:50:56\n",
      "INFO:tensorflow:Saving dict for global step 3000: accuracy = 0.853659, accuracy_baseline = 0.609756, auc = 0.8725, auc_precision_recall = 0.84558, average_loss = 0.831, global_step = 3000, label/mean = 0.390244, loss = 0.831, precision = 0.8125, prediction/mean = 0.370049, recall = 0.8125\n",
      "INFO:tensorflow:Saving 'checkpoint_path' summary for global step 3000: ./model/model.ckpt-3000\n",
      "Accuracy: 0.853659\n",
      "INFO:tensorflow:Calling model_fn.\n",
      "INFO:tensorflow:Done calling model_fn.\n",
      "INFO:tensorflow:Graph was finalized.\n",
      "INFO:tensorflow:Restoring parameters from ./model/model.ckpt-3000\n",
      "INFO:tensorflow:Running local_init_op.\n",
      "INFO:tensorflow:Done running local_init_op.\n",
      "Predictions: [{'logits': array([-6.5289731], dtype=float32), 'logistic': array([ 0.00145837], dtype=float32), 'probabilities': array([ 0.99854159,  0.00145837], dtype=float32), 'class_ids': array([0], dtype=int64), 'classes': array([b'0'], dtype=object)}, {'logits': array([-7.96412134], dtype=float32), 'logistic': array([ 0.0003476], dtype=float32), 'probabilities': array([  9.99652386e-01,   3.47596244e-04], dtype=float32), 'class_ids': array([0], dtype=int64), 'classes': array([b'0'], dtype=object)}, {'logits': array([-6.72533369], dtype=float32), 'logistic': array([ 0.00119868], dtype=float32), 'probabilities': array([ 0.99880135,  0.00119868], dtype=float32), 'class_ids': array([0], dtype=int64), 'classes': array([b'0'], dtype=object)}, {'logits': array([ 5.63149452], dtype=float32), 'logistic': array([ 0.99642962], dtype=float32), 'probabilities': array([ 0.00357042,  0.99642962], dtype=float32), 'class_ids': array([1], dtype=int64), 'classes': array([b'1'], dtype=object)}, {'logits': array([ 5.939363], dtype=float32), 'logistic': array([ 0.99737322], dtype=float32), 'probabilities': array([ 0.00262679,  0.99737322], dtype=float32), 'class_ids': array([1], dtype=int64), 'classes': array([b'1'], dtype=object)}, {'logits': array([-5.80938005], dtype=float32), 'logistic': array([ 0.00299032], dtype=float32), 'probabilities': array([ 0.99700963,  0.00299032], dtype=float32), 'class_ids': array([0], dtype=int64), 'classes': array([b'0'], dtype=object)}, {'logits': array([-8.78832912], dtype=float32), 'logistic': array([ 0.00015248], dtype=float32), 'probabilities': array([  9.99847531e-01,   1.52479319e-04], dtype=float32), 'class_ids': array([0], dtype=int64), 'classes': array([b'0'], dtype=object)}, {'logits': array([-4.03949308], dtype=float32), 'logistic': array([ 0.01730177], dtype=float32), 'probabilities': array([ 0.98269826,  0.01730177], dtype=float32), 'class_ids': array([0], dtype=int64), 'classes': array([b'0'], dtype=object)}, {'logits': array([-6.87893438], dtype=float32), 'logistic': array([ 0.00102818], dtype=float32), 'probabilities': array([ 0.99897182,  0.00102818], dtype=float32), 'class_ids': array([0], dtype=int64), 'classes': array([b'0'], dtype=object)}, {'logits': array([-8.81163979], dtype=float32), 'logistic': array([ 0.00014897], dtype=float32), 'probabilities': array([  9.99850988e-01,   1.48966545e-04], dtype=float32), 'class_ids': array([0], dtype=int64), 'classes': array([b'0'], dtype=object)}, {'logits': array([-8.07771778], dtype=float32), 'logistic': array([ 0.00031028], dtype=float32), 'probabilities': array([  9.99689698e-01,   3.10282281e-04], dtype=float32), 'class_ids': array([0], dtype=int64), 'classes': array([b'0'], dtype=object)}, {'logits': array([ 11.74295807], dtype=float32), 'logistic': array([ 0.99999201], dtype=float32), 'probabilities': array([  7.94501375e-06,   9.99992013e-01], dtype=float32), 'class_ids': array([1], dtype=int64), 'classes': array([b'1'], dtype=object)}, {'logits': array([ 5.94306612], dtype=float32), 'logistic': array([ 0.99738294], dtype=float32), 'probabilities': array([ 0.0026171 ,  0.99738294], dtype=float32), 'class_ids': array([1], dtype=int64), 'classes': array([b'1'], dtype=object)}, {'logits': array([ 5.51412821], dtype=float32), 'logistic': array([ 0.99598676], dtype=float32), 'probabilities': array([ 0.00401327,  0.99598676], dtype=float32), 'class_ids': array([1], dtype=int64), 'classes': array([b'1'], dtype=object)}, {'logits': array([-6.95344162], dtype=float32), 'logistic': array([ 0.00095443], dtype=float32), 'probabilities': array([  9.99045551e-01,   9.54429735e-04], dtype=float32), 'class_ids': array([0], dtype=int64), 'classes': array([b'0'], dtype=object)}, {'logits': array([ 10.13814735], dtype=float32), 'logistic': array([ 0.99996042], dtype=float32), 'probabilities': array([  3.95404277e-05,   9.99960423e-01], dtype=float32), 'class_ids': array([1], dtype=int64), 'classes': array([b'1'], dtype=object)}, {'logits': array([ 1.15259886], dtype=float32), 'logistic': array([ 0.75998527], dtype=float32), 'probabilities': array([ 0.2400147 ,  0.75998527], dtype=float32), 'class_ids': array([1], dtype=int64), 'classes': array([b'1'], dtype=object)}, {'logits': array([-2.76461387], dtype=float32), 'logistic': array([ 0.0592666], dtype=float32), 'probabilities': array([ 0.94073337,  0.0592666 ], dtype=float32), 'class_ids': array([0], dtype=int64), 'classes': array([b'0'], dtype=object)}, {'logits': array([ 7.6214571], dtype=float32), 'logistic': array([ 0.99951041], dtype=float32), 'probabilities': array([  4.89587779e-04,   9.99510407e-01], dtype=float32), 'class_ids': array([1], dtype=int64), 'classes': array([b'1'], dtype=object)}, {'logits': array([-8.12758541], dtype=float32), 'logistic': array([ 0.00029519], dtype=float32), 'probabilities': array([  9.99704778e-01,   2.95193167e-04], dtype=float32), 'class_ids': array([0], dtype=int64), 'classes': array([b'0'], dtype=object)}, {'logits': array([-7.78230715], dtype=float32), 'logistic': array([ 0.00041688], dtype=float32), 'probabilities': array([  9.99583185e-01,   4.16875031e-04], dtype=float32), 'class_ids': array([0], dtype=int64), 'classes': array([b'0'], dtype=object)}, {'logits': array([ 3.14238691], dtype=float32), 'logistic': array([ 0.95860767], dtype=float32), 'probabilities': array([ 0.0413923 ,  0.95860767], dtype=float32), 'class_ids': array([1], dtype=int64), 'classes': array([b'1'], dtype=object)}, {'logits': array([-8.92669678], dtype=float32), 'logistic': array([ 0.00013278], dtype=float32), 'probabilities': array([  9.99867201e-01,   1.32778325e-04], dtype=float32), 'class_ids': array([0], dtype=int64), 'classes': array([b'0'], dtype=object)}, {'logits': array([-7.85503817], dtype=float32), 'logistic': array([ 0.00038764], dtype=float32), 'probabilities': array([  9.99612391e-01,   3.87642940e-04], dtype=float32), 'class_ids': array([0], dtype=int64), 'classes': array([b'0'], dtype=object)}, {'logits': array([ 9.9265852], dtype=float32), 'logistic': array([ 0.99995112], dtype=float32), 'probabilities': array([  4.88559672e-05,   9.99951124e-01], dtype=float32), 'class_ids': array([1], dtype=int64), 'classes': array([b'1'], dtype=object)}, {'logits': array([ 14.2118721], dtype=float32), 'logistic': array([ 0.99999928], dtype=float32), 'probabilities': array([  6.72762951e-07,   9.99999285e-01], dtype=float32), 'class_ids': array([1], dtype=int64), 'classes': array([b'1'], dtype=object)}, {'logits': array([ 13.16796589], dtype=float32), 'logistic': array([ 0.99999809], dtype=float32), 'probabilities': array([  1.91083973e-06,   9.99998093e-01], dtype=float32), 'class_ids': array([1], dtype=int64), 'classes': array([b'1'], dtype=object)}, {'logits': array([ 11.40596962], dtype=float32), 'logistic': array([ 0.99998891], dtype=float32), 'probabilities': array([  1.11287272e-05,   9.99988914e-01], dtype=float32), 'class_ids': array([1], dtype=int64), 'classes': array([b'1'], dtype=object)}, {'logits': array([ 0.59825855], dtype=float32), 'logistic': array([ 0.64525777], dtype=float32), 'probabilities': array([ 0.3547422 ,  0.64525777], dtype=float32), 'class_ids': array([1], dtype=int64), 'classes': array([b'1'], dtype=object)}, {'logits': array([ 0.98685628], dtype=float32), 'logistic': array([ 0.72846651], dtype=float32), 'probabilities': array([ 0.27153346,  0.72846651], dtype=float32), 'class_ids': array([1], dtype=int64), 'classes': array([b'1'], dtype=object)}, {'logits': array([-8.45948887], dtype=float32), 'logistic': array([ 0.00021184], dtype=float32), 'probabilities': array([  9.99788225e-01,   2.11835461e-04], dtype=float32), 'class_ids': array([0], dtype=int64), 'classes': array([b'0'], dtype=object)}, {'logits': array([ 14.71287537], dtype=float32), 'logistic': array([ 0.99999964], dtype=float32), 'probabilities': array([  4.07642318e-07,   9.99999642e-01], dtype=float32), 'class_ids': array([1], dtype=int64), 'classes': array([b'1'], dtype=object)}, {'logits': array([-8.55610943], dtype=float32), 'logistic': array([ 0.00019233], dtype=float32), 'probabilities': array([  9.99807656e-01,   1.92329244e-04], dtype=float32), 'class_ids': array([0], dtype=int64), 'classes': array([b'0'], dtype=object)}, {'logits': array([-7.0726018], dtype=float32), 'logistic': array([ 0.00084731], dtype=float32), 'probabilities': array([  9.99152660e-01,   8.47305288e-04], dtype=float32), 'class_ids': array([0], dtype=int64), 'classes': array([b'0'], dtype=object)}, {'logits': array([-9.18632889], dtype=float32), 'logistic': array([ 0.00010242], dtype=float32), 'probabilities': array([  9.99897599e-01,   1.02419719e-04], dtype=float32), 'class_ids': array([0], dtype=int64), 'classes': array([b'0'], dtype=object)}, {'logits': array([-5.87219858], dtype=float32), 'logistic': array([ 0.00280876], dtype=float32), 'probabilities': array([ 0.99719125,  0.00280876], dtype=float32), 'class_ids': array([0], dtype=int64), 'classes': array([b'0'], dtype=object)}, {'logits': array([-7.73479891], dtype=float32), 'logistic': array([ 0.00043715], dtype=float32), 'probabilities': array([  9.99562800e-01,   4.37149109e-04], dtype=float32), 'class_ids': array([0], dtype=int64), 'classes': array([b'0'], dtype=object)}, {'logits': array([-8.76503944], dtype=float32), 'logistic': array([ 0.00015607], dtype=float32), 'probabilities': array([  9.99843955e-01,   1.56071619e-04], dtype=float32), 'class_ids': array([0], dtype=int64), 'classes': array([b'0'], dtype=object)}, {'logits': array([-7.27224016], dtype=float32), 'logistic': array([ 0.00069407], dtype=float32), 'probabilities': array([  9.99305964e-01,   6.94072340e-04], dtype=float32), 'class_ids': array([0], dtype=int64), 'classes': array([b'0'], dtype=object)}, {'logits': array([-7.25094366], dtype=float32), 'logistic': array([ 0.000709], dtype=float32), 'probabilities': array([  9.99290943e-01,   7.09001441e-04], dtype=float32), 'class_ids': array([0], dtype=int64), 'classes': array([b'0'], dtype=object)}, {'logits': array([-7.49466372], dtype=float32), 'logistic': array([ 0.00055573], dtype=float32), 'probabilities': array([  9.99444306e-01,   5.55734732e-04], dtype=float32), 'class_ids': array([0], dtype=int64), 'classes': array([b'0'], dtype=object)}]\n"
     ]
    }
   ],
   "source": [
    "new_classifier = tf.contrib.learn.DNNClassifier(feature_columns=feature_columns,hidden_units=[10, 20, 10], n_classes=2, model_dir=MODEL_PATH)\n",
    "accuracy_score = classifier.evaluate(input_fn=test_input_fn)[\"accuracy\"]\n",
    "print('Accuracy: {0:f}'.format(accuracy_score))\n",
    "\n",
    "predictions = list(classifier.predict(input_fn=test_input_fn))\n",
    "print ('Predictions: {}'.format(str(predictions)))"
   ]
  },
  {
   "cell_type": "markdown",
   "metadata": {
    "collapsed": true
   },
   "source": [
    "## "
   ]
  }
 ],
 "metadata": {
  "kernelspec": {
   "display_name": "Python 3",
   "language": "python",
   "name": "python3"
  },
  "language_info": {
   "codemirror_mode": {
    "name": "ipython",
    "version": 3
   },
   "file_extension": ".py",
   "mimetype": "text/x-python",
   "name": "python",
   "nbconvert_exporter": "python",
   "pygments_lexer": "ipython3",
   "version": "3.6.3"
  }
 },
 "nbformat": 4,
 "nbformat_minor": 2
}
