{
 "cells": [
  {
   "cell_type": "code",
   "execution_count": 1,
   "metadata": {
    "collapsed": true
   },
   "outputs": [],
   "source": [
    "import csv\n",
    "import math\n",
    "import matplotlib.pyplot as plt\n",
    "import numpy as np"
   ]
  },
  {
   "cell_type": "code",
   "execution_count": 2,
   "metadata": {
    "collapsed": true
   },
   "outputs": [],
   "source": [
    "readFileName = './train.csv'\n",
    "\n",
    "threshold = 16\n",
    "dataRange = 10\n",
    "errorNum = 0"
   ]
  },
  {
   "cell_type": "code",
   "execution_count": 3,
   "metadata": {
    "scrolled": true
   },
   "outputs": [
    {
     "name": "stdout",
     "output_type": "stream",
     "text": [
      "0.782608695652174\n",
      "0.8260869565217391\n",
      "0.8369565217391305\n",
      "0.8586956521739131\n",
      "0.8695652173913043\n",
      "0.8913043478260869\n",
      "0.9021739130434783\n",
      "0.9130434782608695\n",
      "0.9347826086956522\n",
      "0.9347826086956522\n",
      "0.9456521739130435\n",
      "0.9565217391304348\n",
      "0.9565217391304348\n",
      "0.9239130434782609\n",
      "0.9239130434782609\n",
      "0.9347826086956522\n",
      "0.9347826086956522\n",
      "0.9239130434782609\n",
      "0.9130434782608695\n",
      "0.9130434782608695\n",
      "0.9130434782608695\n",
      "0.9239130434782609\n",
      "0.9021739130434783\n",
      "0.9021739130434783\n",
      "0.9021739130434783\n",
      "0.9021739130434783\n",
      "0.9021739130434783\n",
      "0.8913043478260869\n",
      "0.8695652173913043\n",
      "0.8586956521739131\n",
      "0.8586956521739131\n",
      "0.8586956521739131\n",
      "0.8586956521739131\n",
      "0.8478260869565217\n",
      "0.8478260869565217\n",
      "0.8478260869565217\n",
      "0.8478260869565217\n",
      "0.8478260869565217\n",
      "0.8369565217391305\n",
      "0.8369565217391305\n",
      "0.8369565217391305\n"
     ]
    }
   ],
   "source": [
    "dataSize = 92\n",
    "for threshold in range(7, 48):\n",
    "    errorNum = 0\n",
    "    with open(readFileName) as File:\n",
    "        reader = csv.reader(File)\n",
    "\n",
    "        header = next(reader)\n",
    "\n",
    "        for row in reader:\n",
    "            isFall = 0\n",
    "            for i in range(50-dataRange+1):\n",
    "                accMax = float(row[i])\n",
    "                accMin = float(row[i])\n",
    "                for j in range(1, dataRange):\n",
    "                    if float(row[i+j])>accMax:\n",
    "                        accMax = float(row[i+j])\n",
    "                    if float(row[i+j])<accMin:\n",
    "                        accMin = float(row[i+j])\n",
    "                if accMax-accMin >= threshold:\n",
    "                    isFall = 1\n",
    "                    break\n",
    "            if isFall != int(row[50]):\n",
    "                errorNum = errorNum+1\n",
    "#     print(\"Accuracy: \", (dataSize-errorNum)/dataSize)\n",
    "    print((dataSize-errorNum)/dataSize)"
   ]
  },
  {
   "cell_type": "code",
   "execution_count": 4,
   "metadata": {},
   "outputs": [
    {
     "name": "stdout",
     "output_type": "stream",
     "text": [
      "5\n",
      "19.63406\n",
      "Accuracy:  0.8780487804878049\n"
     ]
    }
   ],
   "source": [
    "readFileName = './test2.csv'\n",
    "errorNum = 0\n",
    "threshold = 19.63406\n",
    "dataSize = 41\n",
    "with open(readFileName) as File:\n",
    "    reader = csv.reader(File)\n",
    "\n",
    "    header = next(reader)\n",
    "\n",
    "    for row in reader:\n",
    "        isFall = 0\n",
    "        for i in range(50-dataRange+1):\n",
    "            accMax = float(row[i])\n",
    "            accMin = float(row[i])\n",
    "            for j in range(1, dataRange):\n",
    "                if float(row[i+j])>accMax:\n",
    "                    accMax = float(row[i+j])\n",
    "                if float(row[i+j])<accMin:\n",
    "                    accMin = float(row[i+j])\n",
    "            if accMax-accMin >= threshold:\n",
    "                isFall = 1\n",
    "                break\n",
    "        if isFall != int(row[50]):\n",
    "            errorNum = errorNum+1\n",
    "print(errorNum)\n",
    "print(threshold)\n",
    "print(\"Accuracy: \", (dataSize-errorNum)/dataSize)"
   ]
  },
  {
   "cell_type": "code",
   "execution_count": 5,
   "metadata": {
    "collapsed": true
   },
   "outputs": [],
   "source": [
    "TRAIN_PATH = \"./train.csv\"\n",
    "writeFileName = './train_Diff.csv'\n",
    "allData = []"
   ]
  },
  {
   "cell_type": "code",
   "execution_count": 6,
   "metadata": {
    "collapsed": true
   },
   "outputs": [],
   "source": [
    "with open(TRAIN_PATH) as File:\n",
    "    reader = csv.reader(File)\n",
    "    \n",
    "    header = next(reader)\n",
    "    header.append(\"Diff\")\n",
    "    allData.append(header)\n",
    "    \n",
    "    for row in reader:\n",
    "        columnData = row\n",
    "        accMax = float(row[0])\n",
    "        accMin = float(row[0])\n",
    "        for i in range(1, 50):\n",
    "            if float(row[i])>accMax:\n",
    "                accMax = float(row[i])\n",
    "            if float(row[i])<accMin:\n",
    "                accMin = float(row[i])\n",
    "        columnData.extend([accMax-accMin])\n",
    "        allData.append(columnData)"
   ]
  },
  {
   "cell_type": "code",
   "execution_count": 7,
   "metadata": {},
   "outputs": [
    {
     "name": "stdout",
     "output_type": "stream",
     "text": [
      "Writing complete\n"
     ]
    }
   ],
   "source": [
    "with open(writeFileName, 'w', newline='') as File:\n",
    "    writer = csv.writer(File)\n",
    "    writer.writerows(allData)\n",
    "print(\"Writing complete\")"
   ]
  },
  {
   "cell_type": "code",
   "execution_count": null,
   "metadata": {
    "collapsed": true
   },
   "outputs": [],
   "source": []
  }
 ],
 "metadata": {
  "kernelspec": {
   "display_name": "Python 3",
   "language": "python",
   "name": "python3"
  },
  "language_info": {
   "codemirror_mode": {
    "name": "ipython",
    "version": 3
   },
   "file_extension": ".py",
   "mimetype": "text/x-python",
   "name": "python",
   "nbconvert_exporter": "python",
   "pygments_lexer": "ipython3",
   "version": "3.6.3"
  }
 },
 "nbformat": 4,
 "nbformat_minor": 2
}
